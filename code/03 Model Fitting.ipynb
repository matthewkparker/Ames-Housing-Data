{
 "cells": [
  {
   "cell_type": "code",
   "execution_count": 2,
   "metadata": {},
   "outputs": [],
   "source": [
    "import pandas as pd\n",
    "import numpy as np\n",
    "\n",
    "import seaborn as sns\n",
    "import matplotlib.pyplot as plt\n",
    "\n",
    "from sklearn.linear_model import ElasticNetCV, LinearRegression\n",
    "from sklearn.preprocessing import StandardScaler\n",
    "from sklearn.model_selection import train_test_split\n",
    "from sklearn.feature_selection import VarianceThreshold\n",
    "from sklearn.metrics import mean_squared_error\n",
    "%matplotlib inline"
   ]
  },
  {
   "cell_type": "code",
   "execution_count": 3,
   "metadata": {},
   "outputs": [],
   "source": [
    "X = pd.read_csv('../data/to_be_split_train_X',index_col='Id')\n",
    "y = pd.read_csv('../data/to_be_split_train_y',index_col='Id')\n",
    "test= pd.read_csv('../data/to_be_modeled_test',index_col='Id')"
   ]
  },
  {
   "cell_type": "code",
   "execution_count": 4,
   "metadata": {},
   "outputs": [
    {
     "name": "stdout",
     "output_type": "stream",
     "text": [
      "(2044, 381) (2044, 1)\n"
     ]
    }
   ],
   "source": [
    "print(X.shape,y.shape)"
   ]
  },
  {
   "cell_type": "markdown",
   "metadata": {},
   "source": [
    "#### Splitting our data into training and testing sets."
   ]
  },
  {
   "cell_type": "code",
   "execution_count": 5,
   "metadata": {},
   "outputs": [],
   "source": [
    "X_train, X_test, y_train, y_test = train_test_split(X, y,random_state=9)"
   ]
  },
  {
   "cell_type": "markdown",
   "metadata": {},
   "source": [
    "By splitting the data into 2 different groups, I am able to double check my model, and ensure that the model does not suffer from over fitting."
   ]
  },
  {
   "cell_type": "markdown",
   "metadata": {},
   "source": [
    "#### Scaling the training data, and then scaling the testing data based on the scale created by the training data"
   ]
  },
  {
   "cell_type": "code",
   "execution_count": 14,
   "metadata": {},
   "outputs": [
    {
     "data": {
      "text/plain": [
       "-310.11726068894905"
      ]
     },
     "execution_count": 14,
     "metadata": {},
     "output_type": "execute_result"
    }
   ],
   "source": [
    "(1 - X_train['Garage Cars_2.0'].mean()) * X_train['Garage Cars_2.0'].std() * -1400"
   ]
  },
  {
   "cell_type": "code",
   "execution_count": 11,
   "metadata": {},
   "outputs": [
    {
     "data": {
      "text/plain": [
       "0.4971865306799402"
      ]
     },
     "execution_count": 11,
     "metadata": {},
     "output_type": "execute_result"
    }
   ],
   "source": [
    "X_train['Garage Cars_2.0'].std()"
   ]
  },
  {
   "cell_type": "code",
   "execution_count": null,
   "metadata": {},
   "outputs": [],
   "source": []
  },
  {
   "cell_type": "code",
   "execution_count": 8,
   "metadata": {},
   "outputs": [
    {
     "data": {
      "text/plain": [
       "Index(['Garage Cars_0.0', 'Garage Cars_1.0', 'Garage Cars_2.0',\n",
       "       'Garage Cars_3.0', 'Garage Cars_4.0', 'Garage Cars_5.0'],\n",
       "      dtype='object')"
      ]
     },
     "execution_count": 8,
     "metadata": {},
     "output_type": "execute_result"
    }
   ],
   "source": [
    "X_train.columns[X_train.columns.str.contains('Cars')]"
   ]
  },
  {
   "cell_type": "code",
   "execution_count": 5,
   "metadata": {},
   "outputs": [],
   "source": [
    "ss = StandardScaler()\n",
    "X_Scaled_train = ss.fit_transform(X_train)\n",
    "X_Scaled_test = ss.transform(X_test)"
   ]
  },
  {
   "cell_type": "markdown",
   "metadata": {},
   "source": [
    "Standardizing the data allows us to compare all of our features on the same scale, which makes interpreting the weight of our coefficient relative to other features easier."
   ]
  },
  {
   "cell_type": "markdown",
   "metadata": {},
   "source": [
    "# Linear Regression Modeling"
   ]
  },
  {
   "cell_type": "code",
   "execution_count": 6,
   "metadata": {},
   "outputs": [],
   "source": [
    "lr = LinearRegression()\n",
    "lr_model = lr.fit(X_Scaled_train,y_train)"
   ]
  },
  {
   "cell_type": "code",
   "execution_count": 7,
   "metadata": {},
   "outputs": [
    {
     "name": "stdout",
     "output_type": "stream",
     "text": [
      "train score: 0.950684231346211\n",
      "test score: -1.5578422105594534e+24\n",
      "Train RMSE: 17358.072999943728\n",
      "Test RMSE: 1.0215258410353336e+17\n"
     ]
    }
   ],
   "source": [
    "print('train score:',lr_model.score(X_Scaled_train,y_train))\n",
    "print('test score:',lr_model.score(X_Scaled_test,y_test))\n",
    "y_hat_train = lr_model.predict(X_Scaled_train)\n",
    "y_hat_test = lr_model.predict(X_Scaled_test)\n",
    "print('Train RMSE:',np.sqrt(mean_squared_error(y_train,y_hat_train)))\n",
    "print('Test RMSE:',np.sqrt(mean_squared_error(y_test,y_hat_test)))"
   ]
  },
  {
   "cell_type": "markdown",
   "metadata": {},
   "source": [
    "We can see that our linear regression is Extremely overfit, with the train RMSE being a lot lower than our testing RMSE"
   ]
  },
  {
   "cell_type": "markdown",
   "metadata": {},
   "source": [
    "# Elastic Net Modeling"
   ]
  },
  {
   "cell_type": "code",
   "execution_count": 8,
   "metadata": {},
   "outputs": [
    {
     "name": "stderr",
     "output_type": "stream",
     "text": [
      "C:\\Users\\mattm\\Anaconda3\\lib\\site-packages\\sklearn\\linear_model\\coordinate_descent.py:1094: DataConversionWarning: A column-vector y was passed when a 1d array was expected. Please change the shape of y to (n_samples, ), for example using ravel().\n",
      "  y = column_or_1d(y, warn=True)\n"
     ]
    },
    {
     "data": {
      "text/plain": [
       "ElasticNetCV(alphas=None, copy_X=True, cv=None, eps=0.001, fit_intercept=True,\n",
       "       l1_ratio=[0.0001, 0.3, 0.5, 0.7, 0.9, 1], max_iter=1000,\n",
       "       n_alphas=100, n_jobs=1, normalize=False, positive=False,\n",
       "       precompute='auto', random_state=None, selection='cyclic',\n",
       "       tol=0.0001, verbose=0)"
      ]
     },
     "execution_count": 8,
     "metadata": {},
     "output_type": "execute_result"
    }
   ],
   "source": [
    "ENCV = ElasticNetCV(l1_ratio=[.0001,.3,.5,.7,.9,1],n_alphas=100)\n",
    "ENCV.fit(X_Scaled_train,y_train)"
   ]
  },
  {
   "cell_type": "markdown",
   "metadata": {},
   "source": [
    "by using the Elastic Net Cross Validation regression model as our model, I get the benefits of both Lasso regularization and Ridge regularization at the cost of compute."
   ]
  },
  {
   "cell_type": "markdown",
   "metadata": {},
   "source": [
    "# Model Evaluation"
   ]
  },
  {
   "cell_type": "code",
   "execution_count": 9,
   "metadata": {},
   "outputs": [
    {
     "name": "stdout",
     "output_type": "stream",
     "text": [
      "l1_ratio: 1.0\n",
      "Alpha: 615.4120546203621\n",
      "train score: 0.9399132398990824\n",
      "test score: 0.9260326756208075\n",
      "Train RMSE: 19160.11012237124\n",
      "Test RMSE: 22259.098859392256\n",
      "Model Intercept: 181170.8754076973\n"
     ]
    }
   ],
   "source": [
    "print(\"l1_ratio:\",ENCV.l1_ratio_)\n",
    "print(\"Alpha:\",ENCV.alpha_)\n",
    "print('train score:',ENCV.score(X_Scaled_train,y_train))\n",
    "print('test score:',ENCV.score(X_Scaled_test,y_test))\n",
    "y_hat_train = ENCV.predict(X_Scaled_train)\n",
    "y_hat_test = ENCV.predict(X_Scaled_test)\n",
    "print('Train RMSE:',np.sqrt(mean_squared_error(y_train,y_hat_train)))\n",
    "print('Test RMSE:',np.sqrt(mean_squared_error(y_test,y_hat_test)))\n",
    "print('Model Intercept:',ENCV.intercept_)"
   ]
  },
  {
   "cell_type": "markdown",
   "metadata": {},
   "source": [
    "Our l1_ratio tells us that our best performing model, based on R^2, is a model that is entirely a lasso regularization. this does make sense as lasso regularization can be used select only the features that have an effect on our target feature, which is sales price. our RMSE, or Root mean squared error, tells us on average the dollar amount we are wrong by in our model. "
   ]
  },
  {
   "cell_type": "code",
   "execution_count": 10,
   "metadata": {},
   "outputs": [
    {
     "data": {
      "text/html": [
       "<div>\n",
       "<style scoped>\n",
       "    .dataframe tbody tr th:only-of-type {\n",
       "        vertical-align: middle;\n",
       "    }\n",
       "\n",
       "    .dataframe tbody tr th {\n",
       "        vertical-align: top;\n",
       "    }\n",
       "\n",
       "    .dataframe thead th {\n",
       "        text-align: right;\n",
       "    }\n",
       "</style>\n",
       "<table border=\"1\" class=\"dataframe\">\n",
       "  <thead>\n",
       "    <tr style=\"text-align: right;\">\n",
       "      <th></th>\n",
       "      <th>Coefficient</th>\n",
       "    </tr>\n",
       "  </thead>\n",
       "  <tbody>\n",
       "    <tr>\n",
       "      <th>Overall Cond_3</th>\n",
       "      <td>-3481.946644</td>\n",
       "    </tr>\n",
       "    <tr>\n",
       "      <th>Exter Qual_TA</th>\n",
       "      <td>-2928.727535</td>\n",
       "    </tr>\n",
       "    <tr>\n",
       "      <th>Fireplaces_0</th>\n",
       "      <td>-2709.504401</td>\n",
       "    </tr>\n",
       "    <tr>\n",
       "      <th>Bsmt Full Bath_0.0</th>\n",
       "      <td>-2133.840290</td>\n",
       "    </tr>\n",
       "    <tr>\n",
       "      <th>BsmtFin Type 1_Unf</th>\n",
       "      <td>-1967.220876</td>\n",
       "    </tr>\n",
       "    <tr>\n",
       "      <th>Full Bath_1</th>\n",
       "      <td>-1777.395424</td>\n",
       "    </tr>\n",
       "    <tr>\n",
       "      <th>Functional_Maj1</th>\n",
       "      <td>-1540.562241</td>\n",
       "    </tr>\n",
       "    <tr>\n",
       "      <th>Garage Type_2Types</th>\n",
       "      <td>-1526.800903</td>\n",
       "    </tr>\n",
       "    <tr>\n",
       "      <th>Garage Cars_2.0</th>\n",
       "      <td>-1377.129463</td>\n",
       "    </tr>\n",
       "    <tr>\n",
       "      <th>Overall Cond_4</th>\n",
       "      <td>-1293.355916</td>\n",
       "    </tr>\n",
       "    <tr>\n",
       "      <th>Overall Cond_1</th>\n",
       "      <td>-1229.166230</td>\n",
       "    </tr>\n",
       "    <tr>\n",
       "      <th>Overall Qual_4</th>\n",
       "      <td>-1151.793572</td>\n",
       "    </tr>\n",
       "    <tr>\n",
       "      <th>Heating QC_TA</th>\n",
       "      <td>-1081.191811</td>\n",
       "    </tr>\n",
       "    <tr>\n",
       "      <th>Overall Qual_5</th>\n",
       "      <td>-1072.010350</td>\n",
       "    </tr>\n",
       "    <tr>\n",
       "      <th>Condition 1_RRAe</th>\n",
       "      <td>-934.989970</td>\n",
       "    </tr>\n",
       "  </tbody>\n",
       "</table>\n",
       "</div>"
      ],
      "text/plain": [
       "                    Coefficient\n",
       "Overall Cond_3     -3481.946644\n",
       "Exter Qual_TA      -2928.727535\n",
       "Fireplaces_0       -2709.504401\n",
       "Bsmt Full Bath_0.0 -2133.840290\n",
       "BsmtFin Type 1_Unf -1967.220876\n",
       "Full Bath_1        -1777.395424\n",
       "Functional_Maj1    -1540.562241\n",
       "Garage Type_2Types -1526.800903\n",
       "Garage Cars_2.0    -1377.129463\n",
       "Overall Cond_4     -1293.355916\n",
       "Overall Cond_1     -1229.166230\n",
       "Overall Qual_4     -1151.793572\n",
       "Heating QC_TA      -1081.191811\n",
       "Overall Qual_5     -1072.010350\n",
       "Condition 1_RRAe    -934.989970"
      ]
     },
     "execution_count": 10,
     "metadata": {},
     "output_type": "execute_result"
    }
   ],
   "source": [
    "X_col_list = X.columns\n",
    "coef_df = pd.DataFrame(data = ENCV.coef_,index=X_col_list,columns=[\"Coefficient\"])\n",
    "coef_df = coef_df[coef_df['Coefficient'] !=0]\n",
    "coef_df.sort_values(by='Coefficient').head(15)"
   ]
  },
  {
   "cell_type": "code",
   "execution_count": 11,
   "metadata": {},
   "outputs": [
    {
     "data": {
      "text/html": [
       "<div>\n",
       "<style scoped>\n",
       "    .dataframe tbody tr th:only-of-type {\n",
       "        vertical-align: middle;\n",
       "    }\n",
       "\n",
       "    .dataframe tbody tr th {\n",
       "        vertical-align: top;\n",
       "    }\n",
       "\n",
       "    .dataframe thead th {\n",
       "        text-align: right;\n",
       "    }\n",
       "</style>\n",
       "<table border=\"1\" class=\"dataframe\">\n",
       "  <thead>\n",
       "    <tr style=\"text-align: right;\">\n",
       "      <th></th>\n",
       "      <th>Coefficient</th>\n",
       "    </tr>\n",
       "  </thead>\n",
       "  <tbody>\n",
       "    <tr>\n",
       "      <th>Half Bath_1</th>\n",
       "      <td>3435.078711</td>\n",
       "    </tr>\n",
       "    <tr>\n",
       "      <th>Full Bath_3</th>\n",
       "      <td>3497.982191</td>\n",
       "    </tr>\n",
       "    <tr>\n",
       "      <th>Neighborhood_NoRidge</th>\n",
       "      <td>3530.899065</td>\n",
       "    </tr>\n",
       "    <tr>\n",
       "      <th>Neighborhood_GrnHill</th>\n",
       "      <td>3621.962282</td>\n",
       "    </tr>\n",
       "    <tr>\n",
       "      <th>Neighborhood_StoneBr</th>\n",
       "      <td>3643.255654</td>\n",
       "    </tr>\n",
       "    <tr>\n",
       "      <th>Bsmt Exposure_Gd</th>\n",
       "      <td>3688.915281</td>\n",
       "    </tr>\n",
       "    <tr>\n",
       "      <th>Year Remod/Add</th>\n",
       "      <td>3829.146427</td>\n",
       "    </tr>\n",
       "    <tr>\n",
       "      <th>Bsmt Qual_Ex</th>\n",
       "      <td>4853.123874</td>\n",
       "    </tr>\n",
       "    <tr>\n",
       "      <th>Kitchen Qual_Ex</th>\n",
       "      <td>5098.736973</td>\n",
       "    </tr>\n",
       "    <tr>\n",
       "      <th>Lot Area</th>\n",
       "      <td>6157.746661</td>\n",
       "    </tr>\n",
       "    <tr>\n",
       "      <th>Year Built</th>\n",
       "      <td>6300.588998</td>\n",
       "    </tr>\n",
       "    <tr>\n",
       "      <th>Overall Qual_8</th>\n",
       "      <td>6316.265273</td>\n",
       "    </tr>\n",
       "    <tr>\n",
       "      <th>Overall Qual_10</th>\n",
       "      <td>8067.341350</td>\n",
       "    </tr>\n",
       "    <tr>\n",
       "      <th>Overall Qual_9</th>\n",
       "      <td>9592.352210</td>\n",
       "    </tr>\n",
       "    <tr>\n",
       "      <th>Total Area</th>\n",
       "      <td>27051.989348</td>\n",
       "    </tr>\n",
       "  </tbody>\n",
       "</table>\n",
       "</div>"
      ],
      "text/plain": [
       "                       Coefficient\n",
       "Half Bath_1            3435.078711\n",
       "Full Bath_3            3497.982191\n",
       "Neighborhood_NoRidge   3530.899065\n",
       "Neighborhood_GrnHill   3621.962282\n",
       "Neighborhood_StoneBr   3643.255654\n",
       "Bsmt Exposure_Gd       3688.915281\n",
       "Year Remod/Add         3829.146427\n",
       "Bsmt Qual_Ex           4853.123874\n",
       "Kitchen Qual_Ex        5098.736973\n",
       "Lot Area               6157.746661\n",
       "Year Built             6300.588998\n",
       "Overall Qual_8         6316.265273\n",
       "Overall Qual_10        8067.341350\n",
       "Overall Qual_9         9592.352210\n",
       "Total Area            27051.989348"
      ]
     },
     "execution_count": 11,
     "metadata": {},
     "output_type": "execute_result"
    }
   ],
   "source": [
    "coef_df.sort_values(by='Coefficient').tail(15)"
   ]
  },
  {
   "cell_type": "markdown",
   "metadata": {},
   "source": [
    "These Data Frames show us the features and their coefficient, or their weight on sale price. one way to interpret these coefficients is that for every increase of 1 standard deviation, sales price increases by the coefficient."
   ]
  },
  {
   "cell_type": "markdown",
   "metadata": {},
   "source": [
    "# Kaggle Submission"
   ]
  },
  {
   "cell_type": "code",
   "execution_count": 12,
   "metadata": {},
   "outputs": [],
   "source": [
    "scaled_test = ss.transform(test)"
   ]
  },
  {
   "cell_type": "code",
   "execution_count": 13,
   "metadata": {},
   "outputs": [],
   "source": [
    "data = ENCV.predict(scaled_test)"
   ]
  },
  {
   "cell_type": "code",
   "execution_count": 14,
   "metadata": {},
   "outputs": [],
   "source": [
    "submission = pd.DataFrame(data = data,index = test.index,columns=['SalePrice'])"
   ]
  },
  {
   "cell_type": "code",
   "execution_count": 15,
   "metadata": {},
   "outputs": [],
   "source": [
    "submission.to_csv(\"../data/Submission_File\",index_label='Id')"
   ]
  },
  {
   "cell_type": "markdown",
   "metadata": {},
   "source": [
    "# Data For Presentation"
   ]
  },
  {
   "cell_type": "code",
   "execution_count": 16,
   "metadata": {},
   "outputs": [],
   "source": [
    "presentation_df = X\n",
    "\n",
    "presentation_df_fit = ss.transform(presentation_df)\n",
    "\n",
    "presentation_df[\"Predictions\"] = ENCV.predict(presentation_df_fit)\n",
    "\n",
    "presentation_df[\"SalePrice\"] = y\n",
    "\n",
    "presentation_df.to_csv('../data/Presentation_df')\n",
    "coef_df.to_csv('../data/coef_df')"
   ]
  }
 ],
 "metadata": {
  "kernelspec": {
   "display_name": "Python 3",
   "language": "python",
   "name": "python3"
  },
  "language_info": {
   "codemirror_mode": {
    "name": "ipython",
    "version": 3
   },
   "file_extension": ".py",
   "mimetype": "text/x-python",
   "name": "python",
   "nbconvert_exporter": "python",
   "pygments_lexer": "ipython3",
   "version": "3.6.4"
  }
 },
 "nbformat": 4,
 "nbformat_minor": 2
}
