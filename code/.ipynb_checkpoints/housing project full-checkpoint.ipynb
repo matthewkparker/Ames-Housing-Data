{
 "cells": [
  {
   "cell_type": "markdown",
   "metadata": {},
   "source": [
    "### Importing all relevant libraries"
   ]
  },
  {
   "cell_type": "code",
   "execution_count": 1,
   "metadata": {},
   "outputs": [],
   "source": [
    "import pandas as pd\n",
    "import numpy as np\n",
    "\n",
    "import seaborn as sns\n",
    "import matplotlib.pyplot as plt\n",
    "\n",
    "from sklearn.linear_model import LinearRegression, LassoCV,ElasticNetCV\n",
    "from sklearn.preprocessing import StandardScaler\n",
    "from sklearn.model_selection import train_test_split,cross_val_score\n",
    "from sklearn.metrics import mean_squared_error\n",
    "%matplotlib inline"
   ]
  },
  {
   "cell_type": "markdown",
   "metadata": {},
   "source": [
    "### Reading in both training and testing data sets"
   ]
  },
  {
   "cell_type": "code",
   "execution_count": 2,
   "metadata": {},
   "outputs": [
    {
     "name": "stdout",
     "output_type": "stream",
     "text": [
      "Training Data shape: (2051, 80) Testing Data shape: (879, 79)\n"
     ]
    }
   ],
   "source": [
    "df = pd.read_csv('../data/train.csv',index_col='Id')\n",
    "test = pd.read_csv('../data/test.csv',index_col='Id')\n",
    "print('Training Data shape:',df.shape,'Testing Data shape:',test.shape)"
   ]
  },
  {
   "cell_type": "markdown",
   "metadata": {},
   "source": [
    "# Exploratory Data Analysis"
   ]
  },
  {
   "cell_type": "code",
   "execution_count": 3,
   "metadata": {},
   "outputs": [
    {
     "data": {
      "text/html": [
       "<div>\n",
       "<style scoped>\n",
       "    .dataframe tbody tr th:only-of-type {\n",
       "        vertical-align: middle;\n",
       "    }\n",
       "\n",
       "    .dataframe tbody tr th {\n",
       "        vertical-align: top;\n",
       "    }\n",
       "\n",
       "    .dataframe thead th {\n",
       "        text-align: right;\n",
       "    }\n",
       "</style>\n",
       "<table border=\"1\" class=\"dataframe\">\n",
       "  <thead>\n",
       "    <tr style=\"text-align: right;\">\n",
       "      <th></th>\n",
       "      <th>PID</th>\n",
       "      <th>MS SubClass</th>\n",
       "      <th>MS Zoning</th>\n",
       "      <th>Lot Frontage</th>\n",
       "      <th>Lot Area</th>\n",
       "      <th>Street</th>\n",
       "      <th>Alley</th>\n",
       "      <th>Lot Shape</th>\n",
       "      <th>Land Contour</th>\n",
       "      <th>Utilities</th>\n",
       "      <th>...</th>\n",
       "      <th>Screen Porch</th>\n",
       "      <th>Pool Area</th>\n",
       "      <th>Pool QC</th>\n",
       "      <th>Fence</th>\n",
       "      <th>Misc Feature</th>\n",
       "      <th>Misc Val</th>\n",
       "      <th>Mo Sold</th>\n",
       "      <th>Yr Sold</th>\n",
       "      <th>Sale Type</th>\n",
       "      <th>SalePrice</th>\n",
       "    </tr>\n",
       "    <tr>\n",
       "      <th>Id</th>\n",
       "      <th></th>\n",
       "      <th></th>\n",
       "      <th></th>\n",
       "      <th></th>\n",
       "      <th></th>\n",
       "      <th></th>\n",
       "      <th></th>\n",
       "      <th></th>\n",
       "      <th></th>\n",
       "      <th></th>\n",
       "      <th></th>\n",
       "      <th></th>\n",
       "      <th></th>\n",
       "      <th></th>\n",
       "      <th></th>\n",
       "      <th></th>\n",
       "      <th></th>\n",
       "      <th></th>\n",
       "      <th></th>\n",
       "      <th></th>\n",
       "      <th></th>\n",
       "    </tr>\n",
       "  </thead>\n",
       "  <tbody>\n",
       "    <tr>\n",
       "      <th>109</th>\n",
       "      <td>533352170</td>\n",
       "      <td>60</td>\n",
       "      <td>RL</td>\n",
       "      <td>NaN</td>\n",
       "      <td>13517</td>\n",
       "      <td>Pave</td>\n",
       "      <td>NaN</td>\n",
       "      <td>IR1</td>\n",
       "      <td>Lvl</td>\n",
       "      <td>AllPub</td>\n",
       "      <td>...</td>\n",
       "      <td>0</td>\n",
       "      <td>0</td>\n",
       "      <td>NaN</td>\n",
       "      <td>NaN</td>\n",
       "      <td>NaN</td>\n",
       "      <td>0</td>\n",
       "      <td>3</td>\n",
       "      <td>2010</td>\n",
       "      <td>WD</td>\n",
       "      <td>130500</td>\n",
       "    </tr>\n",
       "    <tr>\n",
       "      <th>544</th>\n",
       "      <td>531379050</td>\n",
       "      <td>60</td>\n",
       "      <td>RL</td>\n",
       "      <td>43.0</td>\n",
       "      <td>11492</td>\n",
       "      <td>Pave</td>\n",
       "      <td>NaN</td>\n",
       "      <td>IR1</td>\n",
       "      <td>Lvl</td>\n",
       "      <td>AllPub</td>\n",
       "      <td>...</td>\n",
       "      <td>0</td>\n",
       "      <td>0</td>\n",
       "      <td>NaN</td>\n",
       "      <td>NaN</td>\n",
       "      <td>NaN</td>\n",
       "      <td>0</td>\n",
       "      <td>4</td>\n",
       "      <td>2009</td>\n",
       "      <td>WD</td>\n",
       "      <td>220000</td>\n",
       "    </tr>\n",
       "    <tr>\n",
       "      <th>153</th>\n",
       "      <td>535304180</td>\n",
       "      <td>20</td>\n",
       "      <td>RL</td>\n",
       "      <td>68.0</td>\n",
       "      <td>7922</td>\n",
       "      <td>Pave</td>\n",
       "      <td>NaN</td>\n",
       "      <td>Reg</td>\n",
       "      <td>Lvl</td>\n",
       "      <td>AllPub</td>\n",
       "      <td>...</td>\n",
       "      <td>0</td>\n",
       "      <td>0</td>\n",
       "      <td>NaN</td>\n",
       "      <td>NaN</td>\n",
       "      <td>NaN</td>\n",
       "      <td>0</td>\n",
       "      <td>1</td>\n",
       "      <td>2010</td>\n",
       "      <td>WD</td>\n",
       "      <td>109000</td>\n",
       "    </tr>\n",
       "    <tr>\n",
       "      <th>318</th>\n",
       "      <td>916386060</td>\n",
       "      <td>60</td>\n",
       "      <td>RL</td>\n",
       "      <td>73.0</td>\n",
       "      <td>9802</td>\n",
       "      <td>Pave</td>\n",
       "      <td>NaN</td>\n",
       "      <td>Reg</td>\n",
       "      <td>Lvl</td>\n",
       "      <td>AllPub</td>\n",
       "      <td>...</td>\n",
       "      <td>0</td>\n",
       "      <td>0</td>\n",
       "      <td>NaN</td>\n",
       "      <td>NaN</td>\n",
       "      <td>NaN</td>\n",
       "      <td>0</td>\n",
       "      <td>4</td>\n",
       "      <td>2010</td>\n",
       "      <td>WD</td>\n",
       "      <td>174000</td>\n",
       "    </tr>\n",
       "    <tr>\n",
       "      <th>255</th>\n",
       "      <td>906425045</td>\n",
       "      <td>50</td>\n",
       "      <td>RL</td>\n",
       "      <td>82.0</td>\n",
       "      <td>14235</td>\n",
       "      <td>Pave</td>\n",
       "      <td>NaN</td>\n",
       "      <td>IR1</td>\n",
       "      <td>Lvl</td>\n",
       "      <td>AllPub</td>\n",
       "      <td>...</td>\n",
       "      <td>0</td>\n",
       "      <td>0</td>\n",
       "      <td>NaN</td>\n",
       "      <td>NaN</td>\n",
       "      <td>NaN</td>\n",
       "      <td>0</td>\n",
       "      <td>3</td>\n",
       "      <td>2010</td>\n",
       "      <td>WD</td>\n",
       "      <td>138500</td>\n",
       "    </tr>\n",
       "  </tbody>\n",
       "</table>\n",
       "<p>5 rows × 80 columns</p>\n",
       "</div>"
      ],
      "text/plain": [
       "           PID  MS SubClass MS Zoning  Lot Frontage  Lot Area Street Alley  \\\n",
       "Id                                                                           \n",
       "109  533352170           60        RL           NaN     13517   Pave   NaN   \n",
       "544  531379050           60        RL          43.0     11492   Pave   NaN   \n",
       "153  535304180           20        RL          68.0      7922   Pave   NaN   \n",
       "318  916386060           60        RL          73.0      9802   Pave   NaN   \n",
       "255  906425045           50        RL          82.0     14235   Pave   NaN   \n",
       "\n",
       "    Lot Shape Land Contour Utilities    ...     Screen Porch Pool Area  \\\n",
       "Id                                      ...                              \n",
       "109       IR1          Lvl    AllPub    ...                0         0   \n",
       "544       IR1          Lvl    AllPub    ...                0         0   \n",
       "153       Reg          Lvl    AllPub    ...                0         0   \n",
       "318       Reg          Lvl    AllPub    ...                0         0   \n",
       "255       IR1          Lvl    AllPub    ...                0         0   \n",
       "\n",
       "    Pool QC Fence Misc Feature Misc Val Mo Sold  Yr Sold  Sale Type  SalePrice  \n",
       "Id                                                                              \n",
       "109     NaN   NaN          NaN        0       3     2010        WD      130500  \n",
       "544     NaN   NaN          NaN        0       4     2009        WD      220000  \n",
       "153     NaN   NaN          NaN        0       1     2010        WD      109000  \n",
       "318     NaN   NaN          NaN        0       4     2010        WD      174000  \n",
       "255     NaN   NaN          NaN        0       3     2010        WD      138500  \n",
       "\n",
       "[5 rows x 80 columns]"
      ]
     },
     "execution_count": 3,
     "metadata": {},
     "output_type": "execute_result"
    }
   ],
   "source": [
    "df.head()"
   ]
  },
  {
   "cell_type": "code",
   "execution_count": 4,
   "metadata": {},
   "outputs": [
    {
     "data": {
      "text/html": [
       "<div>\n",
       "<style scoped>\n",
       "    .dataframe tbody tr th:only-of-type {\n",
       "        vertical-align: middle;\n",
       "    }\n",
       "\n",
       "    .dataframe tbody tr th {\n",
       "        vertical-align: top;\n",
       "    }\n",
       "\n",
       "    .dataframe thead th {\n",
       "        text-align: right;\n",
       "    }\n",
       "</style>\n",
       "<table border=\"1\" class=\"dataframe\">\n",
       "  <thead>\n",
       "    <tr style=\"text-align: right;\">\n",
       "      <th></th>\n",
       "      <th>count</th>\n",
       "      <th>mean</th>\n",
       "      <th>std</th>\n",
       "      <th>min</th>\n",
       "      <th>25%</th>\n",
       "      <th>50%</th>\n",
       "      <th>75%</th>\n",
       "      <th>max</th>\n",
       "    </tr>\n",
       "  </thead>\n",
       "  <tbody>\n",
       "    <tr>\n",
       "      <th>PID</th>\n",
       "      <td>2051.0</td>\n",
       "      <td>7.135900e+08</td>\n",
       "      <td>1.886918e+08</td>\n",
       "      <td>526301100.0</td>\n",
       "      <td>528458140.0</td>\n",
       "      <td>535453200.0</td>\n",
       "      <td>907180080.0</td>\n",
       "      <td>924152030.0</td>\n",
       "    </tr>\n",
       "    <tr>\n",
       "      <th>MS SubClass</th>\n",
       "      <td>2051.0</td>\n",
       "      <td>5.700878e+01</td>\n",
       "      <td>4.282422e+01</td>\n",
       "      <td>20.0</td>\n",
       "      <td>20.0</td>\n",
       "      <td>50.0</td>\n",
       "      <td>70.0</td>\n",
       "      <td>190.0</td>\n",
       "    </tr>\n",
       "    <tr>\n",
       "      <th>Lot Frontage</th>\n",
       "      <td>1721.0</td>\n",
       "      <td>6.905520e+01</td>\n",
       "      <td>2.326065e+01</td>\n",
       "      <td>21.0</td>\n",
       "      <td>58.0</td>\n",
       "      <td>68.0</td>\n",
       "      <td>80.0</td>\n",
       "      <td>313.0</td>\n",
       "    </tr>\n",
       "    <tr>\n",
       "      <th>Lot Area</th>\n",
       "      <td>2051.0</td>\n",
       "      <td>1.006521e+04</td>\n",
       "      <td>6.742489e+03</td>\n",
       "      <td>1300.0</td>\n",
       "      <td>7500.0</td>\n",
       "      <td>9430.0</td>\n",
       "      <td>11513.5</td>\n",
       "      <td>159000.0</td>\n",
       "    </tr>\n",
       "    <tr>\n",
       "      <th>Overall Qual</th>\n",
       "      <td>2051.0</td>\n",
       "      <td>6.112140e+00</td>\n",
       "      <td>1.426271e+00</td>\n",
       "      <td>1.0</td>\n",
       "      <td>5.0</td>\n",
       "      <td>6.0</td>\n",
       "      <td>7.0</td>\n",
       "      <td>10.0</td>\n",
       "    </tr>\n",
       "  </tbody>\n",
       "</table>\n",
       "</div>"
      ],
      "text/plain": [
       "               count          mean           std          min          25%  \\\n",
       "PID           2051.0  7.135900e+08  1.886918e+08  526301100.0  528458140.0   \n",
       "MS SubClass   2051.0  5.700878e+01  4.282422e+01         20.0         20.0   \n",
       "Lot Frontage  1721.0  6.905520e+01  2.326065e+01         21.0         58.0   \n",
       "Lot Area      2051.0  1.006521e+04  6.742489e+03       1300.0       7500.0   \n",
       "Overall Qual  2051.0  6.112140e+00  1.426271e+00          1.0          5.0   \n",
       "\n",
       "                      50%          75%          max  \n",
       "PID           535453200.0  907180080.0  924152030.0  \n",
       "MS SubClass          50.0         70.0        190.0  \n",
       "Lot Frontage         68.0         80.0        313.0  \n",
       "Lot Area           9430.0      11513.5     159000.0  \n",
       "Overall Qual          6.0          7.0         10.0  "
      ]
     },
     "execution_count": 4,
     "metadata": {},
     "output_type": "execute_result"
    }
   ],
   "source": [
    "df.describe().T.head()"
   ]
  },
  {
   "cell_type": "code",
   "execution_count": 5,
   "metadata": {},
   "outputs": [],
   "source": [
    "def box_func(df, ylabel):\n",
    "    data = df.select_dtypes(include=\"object\")\n",
    "    fig, ax = plt.subplots(ncols = 1, nrows = data.shape[1], figsize = (8,data.shape[1]*6))\n",
    "    i=0\n",
    "    for col in data:\n",
    "        sns.boxplot(x = ylabel, y = col, data = df,orient='h',ax=ax[i])\n",
    "        i+=1\n",
    "    plt.tight_layout()\n",
    "#box_func(df,\"SalePrice\")"
   ]
  },
  {
   "cell_type": "code",
   "execution_count": 6,
   "metadata": {},
   "outputs": [],
   "source": [
    "def scatter(df,target):\n",
    "    data = df.select_dtypes(exclude=\"object\")\n",
    "    fig, ax = plt.subplots(ncols = 1, nrows = data.shape[1], figsize = (7,data.shape[1]*3))\n",
    "    i = 0\n",
    "    for col in data:\n",
    "        sns.regplot(x = df[col],y = df[target],fit_reg=False, ax=ax[i])\n",
    "        i += 1\n",
    "        plt.tight_layout()\n",
    "#scatter(df,\"SalePrice\")"
   ]
  },
  {
   "cell_type": "markdown",
   "metadata": {},
   "source": [
    "# Data Cleaning"
   ]
  },
  {
   "cell_type": "code",
   "execution_count": 7,
   "metadata": {},
   "outputs": [],
   "source": [
    "fill_na={'Lot Frontage':np.mean(df['Lot Frontage']),\n",
    "         'Alley':'No Alley',\n",
    "         'Mas Vnr Type':'No Vnr',\n",
    "         'Mas Vnr Area':0,\n",
    "         'Bsmt Qual':'No Bsmt',\n",
    "         'Bsmt Cond':'No Bsmt',\n",
    "         'Bsmt Exposure':'No Bsmt',\n",
    "         'BsmtFin Type 1':'No Bsmt',\n",
    "         'BsmtFin SF 1':0,\n",
    "         'BsmtFin Type 2':'No Bsmt',\n",
    "         'BsmtFin SF 2':0,\n",
    "         'Bsmt Unf SF':0,\n",
    "         'Total Bsmt SF':0,\n",
    "         'Bsmt Full Bath':0,\n",
    "         'Bsmt Half Bath':0,\n",
    "         'Fireplace Qu':'No Fire',\n",
    "         'Garage Type':'No Garage',\n",
    "         'Garage Yr Blt':0,\n",
    "         'Garage Qual':'No Garage',\n",
    "         'Garage Cond':'No Garage',\n",
    "         'Garage Finish':\"No Garage\",\n",
    "         'Garage Cars':0,\n",
    "         'Garage Area':0,\n",
    "         'Pool QC':'No Pool',\n",
    "         'Fence':'No Fence',\n",
    "         'Misc Feature':'No Feature',\n",
    "         'Electrical':'Mix'\n",
    "        }"
   ]
  },
  {
   "cell_type": "markdown",
   "metadata": {},
   "source": [
    "#### Additional Feature Engineering"
   ]
  },
  {
   "cell_type": "code",
   "execution_count": 8,
   "metadata": {},
   "outputs": [],
   "source": [
    "df.fillna(value = fill_na,inplace = True)\n",
    "test.fillna(fill_na,inplace=True)\n",
    "df[\"Total Area\"] = df[\"Total Bsmt SF\"] + df[\"Gr Liv Area\"] + df['Garage Area']\n",
    "test['Total Area'] = test[\"Total Bsmt SF\"] + test['Gr Liv Area'] + test[\"Garage Area\"]"
   ]
  },
  {
   "cell_type": "code",
   "execution_count": 9,
   "metadata": {
    "scrolled": true
   },
   "outputs": [
    {
     "name": "stdout",
     "output_type": "stream",
     "text": [
      "There are 0 null values in our training data frame\n",
      "There are 0 null values in our testing data frame\n"
     ]
    }
   ],
   "source": [
    "print(\"There are\",df.isnull().sum().sum(),\"null values in our training data frame\")\n",
    "print(\"There are\",test.isnull().sum().sum(),\"null values in our testing data frame\")"
   ]
  },
  {
   "cell_type": "markdown",
   "metadata": {},
   "source": [
    "#### dropping outliers/incorrect values"
   ]
  },
  {
   "cell_type": "code",
   "execution_count": 10,
   "metadata": {},
   "outputs": [],
   "source": [
    "df.drop(df[df['Lot Area']>100000].index,inplace=True)\n",
    "df.drop(df[df['Garage Yr Blt']>2018].index,inplace=True)\n",
    "df.drop(df[df['Total Area']>10000].index,inplace=True)"
   ]
  },
  {
   "cell_type": "code",
   "execution_count": 11,
   "metadata": {},
   "outputs": [],
   "source": [
    "df.to_csv(\"../data/clean_data\")\n",
    "test.to_csv(\"../data/clean_test_data\")"
   ]
  },
  {
   "cell_type": "code",
   "execution_count": 12,
   "metadata": {},
   "outputs": [],
   "source": [
    "obj_list = ['Overall Qual',\n",
    "            'Overall Cond',\n",
    "            'MS SubClass',\n",
    "            'Bsmt Full Bath',\n",
    "            'Bsmt Half Bath',\n",
    "            'Full Bath',\n",
    "            'Half Bath',\n",
    "            'Bedroom AbvGr',\n",
    "            'Kitchen AbvGr',\n",
    "            'Fireplaces',\n",
    "            'Garage Cars',\n",
    "            'Mo Sold',\n",
    "            'Yr Sold',\n",
    "           ]\n",
    "for col in obj_list:\n",
    "    df[col] = df[col].astype(object)\n",
    "    test[col] = test[col].astype(object)"
   ]
  },
  {
   "cell_type": "markdown",
   "metadata": {},
   "source": [
    "#### Creating dummy variables for each column with the object data type, and appending it to the original data frame."
   ]
  },
  {
   "cell_type": "code",
   "execution_count": 13,
   "metadata": {},
   "outputs": [],
   "source": [
    "dummy_col_names = df.select_dtypes(include=\"object\").columns\n",
    "test_dummy_col_names = test.select_dtypes(include=\"object\").columns\n",
    "for col in dummy_col_names:\n",
    "    df = df.join(pd.get_dummies(df[col],prefix=str(col)))\n",
    "for col in test_dummy_col_names:\n",
    "    test = test.join(pd.get_dummies(test[col],prefix=str(col)))"
   ]
  },
  {
   "cell_type": "markdown",
   "metadata": {},
   "source": [
    "#### Creating our X and y data frames to fit our linear regression model, while removing columns that are linearly related to Total Area"
   ]
  },
  {
   "cell_type": "code",
   "execution_count": 14,
   "metadata": {},
   "outputs": [],
   "source": [
    "X_col_list = list(df.select_dtypes(exclude='object').columns)\n",
    "not_in_X = ['SalePrice',\n",
    "            'Gr Liv Area',\n",
    "            'Garage Area',\n",
    "            'Total Bsmt SF',\n",
    "            '2nd Flr SF',\n",
    "            'Bsmt Unf SF',\n",
    "            'BsmtFin SF 1',\n",
    "            '1st Flr SF',\n",
    "            'Low Qual Fin SF',\n",
    "            'BsmtFin SF 2'\n",
    "           ]\n",
    "for col in not_in_X:\n",
    "    X_col_list.remove(col)\n",
    "X = df[X_col_list]\n",
    "y = df[\"SalePrice\"]"
   ]
  },
  {
   "cell_type": "code",
   "execution_count": 15,
   "metadata": {},
   "outputs": [],
   "source": [
    "test_col_list = list(test.select_dtypes(exclude='object').columns)\n",
    "not_in_test = ['Gr Liv Area',\n",
    "                 'Garage Area',\n",
    "                 'Total Bsmt SF',\n",
    "                 '2nd Flr SF',\n",
    "                 'Bsmt Unf SF',\n",
    "                 'BsmtFin SF 1',\n",
    "                 '1st Flr SF',\n",
    "                 'Low Qual Fin SF',\n",
    "                 'BsmtFin SF 2'\n",
    "                ]\n",
    "for col in not_in_test:\n",
    "    test_col_list.remove(col)\n",
    "test = test[test_col_list]"
   ]
  },
  {
   "cell_type": "markdown",
   "metadata": {},
   "source": [
    "#### Ensuring that our columns are in the correct order"
   ]
  },
  {
   "cell_type": "code",
   "execution_count": 16,
   "metadata": {},
   "outputs": [
    {
     "name": "stderr",
     "output_type": "stream",
     "text": [
      "C:\\Users\\mattm\\Anaconda3\\lib\\site-packages\\ipykernel_launcher.py:8: SettingWithCopyWarning: \n",
      "A value is trying to be set on a copy of a slice from a DataFrame.\n",
      "Try using .loc[row_indexer,col_indexer] = value instead\n",
      "\n",
      "See the caveats in the documentation: http://pandas.pydata.org/pandas-docs/stable/indexing.html#indexing-view-versus-copy\n",
      "  \n"
     ]
    }
   ],
   "source": [
    "for col in X_col_list:\n",
    "    if col not in test_col_list:\n",
    "        test[str(col)] = 0\n",
    "\n",
    "for col in test_col_list:\n",
    "    if col not in X_col_list:\n",
    "        X_col_list.append(col)\n",
    "        X[str(col)] = 0\n",
    "test = test[X.columns]"
   ]
  },
  {
   "cell_type": "markdown",
   "metadata": {},
   "source": [
    "#### Splitting our data into training and testing sets."
   ]
  },
  {
   "cell_type": "code",
   "execution_count": 17,
   "metadata": {},
   "outputs": [],
   "source": [
    "X_train, X_test, y_train, y_test = train_test_split(X, y,random_state=9)"
   ]
  },
  {
   "cell_type": "markdown",
   "metadata": {},
   "source": [
    "#### Scaling the training data, and then scaling the testing data based on the scale created by the training data"
   ]
  },
  {
   "cell_type": "code",
   "execution_count": 18,
   "metadata": {},
   "outputs": [],
   "source": [
    "ss = StandardScaler()\n",
    "X_Scaled_train = ss.fit_transform(X_train)\n",
    "X_Scaled_test = ss.transform(X_test)"
   ]
  },
  {
   "cell_type": "markdown",
   "metadata": {},
   "source": [
    "# Modeling"
   ]
  },
  {
   "cell_type": "code",
   "execution_count": 19,
   "metadata": {},
   "outputs": [
    {
     "data": {
      "text/plain": [
       "ElasticNetCV(alphas=None, copy_X=True, cv=None, eps=0.001, fit_intercept=True,\n",
       "       l1_ratio=[0.001, 0.3, 0.5, 0.7, 0.9, 1], max_iter=1000,\n",
       "       n_alphas=100, n_jobs=1, normalize=False, positive=False,\n",
       "       precompute='auto', random_state=None, selection='cyclic',\n",
       "       tol=0.0001, verbose=0)"
      ]
     },
     "execution_count": 19,
     "metadata": {},
     "output_type": "execute_result"
    }
   ],
   "source": [
    "ENCV = ElasticNetCV(l1_ratio=[.001,.3,.5,.7,.9,1],n_alphas=100)\n",
    "ENCV.fit(X_Scaled_train,y_train)"
   ]
  },
  {
   "cell_type": "markdown",
   "metadata": {},
   "source": [
    "# Model Evaluation"
   ]
  },
  {
   "cell_type": "code",
   "execution_count": 20,
   "metadata": {},
   "outputs": [
    {
     "name": "stdout",
     "output_type": "stream",
     "text": [
      "l1_ratio: 1.0\n",
      "Alpha: 534.5013540863487\n",
      "train score: 0.9407763851144852\n",
      "test score: 0.9259456031236891\n",
      "Train RMSE: 18971.387221036082\n",
      "Test RMSE: 22575.78200896088\n"
     ]
    }
   ],
   "source": [
    "print(\"l1_ratio:\",ENCV.l1_ratio_)\n",
    "print('Alpha:',ENCV.alpha_)\n",
    "print('train score:',ENCV.score(X_Scaled_train,y_train))\n",
    "print('test score:',ENCV.score(X_Scaled_test,y_test))\n",
    "y_hat_train = ENCV.predict(X_Scaled_train)\n",
    "y_hat_test = ENCV.predict(X_Scaled_test)\n",
    "print('Train RMSE:',np.sqrt(mean_squared_error(y_train,y_hat_train)))\n",
    "print('Test RMSE:',np.sqrt(mean_squared_error(y_test,y_hat_test)))"
   ]
  },
  {
   "cell_type": "code",
   "execution_count": 21,
   "metadata": {},
   "outputs": [
    {
     "data": {
      "text/html": [
       "<div>\n",
       "<style scoped>\n",
       "    .dataframe tbody tr th:only-of-type {\n",
       "        vertical-align: middle;\n",
       "    }\n",
       "\n",
       "    .dataframe tbody tr th {\n",
       "        vertical-align: top;\n",
       "    }\n",
       "\n",
       "    .dataframe thead th {\n",
       "        text-align: right;\n",
       "    }\n",
       "</style>\n",
       "<table border=\"1\" class=\"dataframe\">\n",
       "  <thead>\n",
       "    <tr style=\"text-align: right;\">\n",
       "      <th></th>\n",
       "      <th>Coefficient</th>\n",
       "    </tr>\n",
       "  </thead>\n",
       "  <tbody>\n",
       "    <tr>\n",
       "      <th>Overall Cond_3</th>\n",
       "      <td>-3190.903111</td>\n",
       "    </tr>\n",
       "    <tr>\n",
       "      <th>Fireplaces_0</th>\n",
       "      <td>-2939.081280</td>\n",
       "    </tr>\n",
       "    <tr>\n",
       "      <th>Bsmt Full Bath_0.0</th>\n",
       "      <td>-2837.227730</td>\n",
       "    </tr>\n",
       "    <tr>\n",
       "      <th>Full Bath_1</th>\n",
       "      <td>-2400.325848</td>\n",
       "    </tr>\n",
       "    <tr>\n",
       "      <th>Exter Qual_TA</th>\n",
       "      <td>-2142.972102</td>\n",
       "    </tr>\n",
       "    <tr>\n",
       "      <th>Overall Cond_2</th>\n",
       "      <td>-1865.257668</td>\n",
       "    </tr>\n",
       "    <tr>\n",
       "      <th>BsmtFin Type 1_Unf</th>\n",
       "      <td>-1714.767763</td>\n",
       "    </tr>\n",
       "    <tr>\n",
       "      <th>Functional_Maj1</th>\n",
       "      <td>-1657.294092</td>\n",
       "    </tr>\n",
       "    <tr>\n",
       "      <th>Overall Cond_4</th>\n",
       "      <td>-1455.436068</td>\n",
       "    </tr>\n",
       "    <tr>\n",
       "      <th>Heating QC_TA</th>\n",
       "      <td>-1452.292361</td>\n",
       "    </tr>\n",
       "    <tr>\n",
       "      <th>Garage Cars_2.0</th>\n",
       "      <td>-1287.660808</td>\n",
       "    </tr>\n",
       "    <tr>\n",
       "      <th>Functional_Sev</th>\n",
       "      <td>-1151.511991</td>\n",
       "    </tr>\n",
       "    <tr>\n",
       "      <th>Overall Qual_4</th>\n",
       "      <td>-1122.282180</td>\n",
       "    </tr>\n",
       "    <tr>\n",
       "      <th>Condition 1_RRAe</th>\n",
       "      <td>-1023.525416</td>\n",
       "    </tr>\n",
       "    <tr>\n",
       "      <th>Bsmt Qual_TA</th>\n",
       "      <td>-994.110749</td>\n",
       "    </tr>\n",
       "  </tbody>\n",
       "</table>\n",
       "</div>"
      ],
      "text/plain": [
       "                    Coefficient\n",
       "Overall Cond_3     -3190.903111\n",
       "Fireplaces_0       -2939.081280\n",
       "Bsmt Full Bath_0.0 -2837.227730\n",
       "Full Bath_1        -2400.325848\n",
       "Exter Qual_TA      -2142.972102\n",
       "Overall Cond_2     -1865.257668\n",
       "BsmtFin Type 1_Unf -1714.767763\n",
       "Functional_Maj1    -1657.294092\n",
       "Overall Cond_4     -1455.436068\n",
       "Heating QC_TA      -1452.292361\n",
       "Garage Cars_2.0    -1287.660808\n",
       "Functional_Sev     -1151.511991\n",
       "Overall Qual_4     -1122.282180\n",
       "Condition 1_RRAe   -1023.525416\n",
       "Bsmt Qual_TA        -994.110749"
      ]
     },
     "execution_count": 21,
     "metadata": {},
     "output_type": "execute_result"
    }
   ],
   "source": [
    "X_col_list = X.columns\n",
    "coef_df = pd.DataFrame(data = ENCV.coef_,index=X_col_list,columns=[\"Coefficient\"])\n",
    "coef_df = coef_df[coef_df['Coefficient'] !=0]\n",
    "coef_df.sort_values(by='Coefficient').head(15)"
   ]
  },
  {
   "cell_type": "code",
   "execution_count": 22,
   "metadata": {},
   "outputs": [
    {
     "data": {
      "text/html": [
       "<div>\n",
       "<style scoped>\n",
       "    .dataframe tbody tr th:only-of-type {\n",
       "        vertical-align: middle;\n",
       "    }\n",
       "\n",
       "    .dataframe tbody tr th {\n",
       "        vertical-align: top;\n",
       "    }\n",
       "\n",
       "    .dataframe thead th {\n",
       "        text-align: right;\n",
       "    }\n",
       "</style>\n",
       "<table border=\"1\" class=\"dataframe\">\n",
       "  <thead>\n",
       "    <tr style=\"text-align: right;\">\n",
       "      <th></th>\n",
       "      <th>Coefficient</th>\n",
       "    </tr>\n",
       "  </thead>\n",
       "  <tbody>\n",
       "    <tr>\n",
       "      <th>Neighborhood_NoRidge</th>\n",
       "      <td>3361.848809</td>\n",
       "    </tr>\n",
       "    <tr>\n",
       "      <th>Bsmt Exposure_Gd</th>\n",
       "      <td>3458.220229</td>\n",
       "    </tr>\n",
       "    <tr>\n",
       "      <th>Year Remod/Add</th>\n",
       "      <td>3478.750402</td>\n",
       "    </tr>\n",
       "    <tr>\n",
       "      <th>Bldg Type_1Fam</th>\n",
       "      <td>3543.907234</td>\n",
       "    </tr>\n",
       "    <tr>\n",
       "      <th>Neighborhood_GrnHill</th>\n",
       "      <td>3553.992559</td>\n",
       "    </tr>\n",
       "    <tr>\n",
       "      <th>Half Bath_1</th>\n",
       "      <td>3749.586557</td>\n",
       "    </tr>\n",
       "    <tr>\n",
       "      <th>Bsmt Qual_Ex</th>\n",
       "      <td>3835.251432</td>\n",
       "    </tr>\n",
       "    <tr>\n",
       "      <th>Neighborhood_StoneBr</th>\n",
       "      <td>4021.776584</td>\n",
       "    </tr>\n",
       "    <tr>\n",
       "      <th>Lot Area</th>\n",
       "      <td>4163.969102</td>\n",
       "    </tr>\n",
       "    <tr>\n",
       "      <th>Kitchen Qual_Ex</th>\n",
       "      <td>4239.602445</td>\n",
       "    </tr>\n",
       "    <tr>\n",
       "      <th>Overall Qual_8</th>\n",
       "      <td>5783.432821</td>\n",
       "    </tr>\n",
       "    <tr>\n",
       "      <th>Year Built</th>\n",
       "      <td>6088.881355</td>\n",
       "    </tr>\n",
       "    <tr>\n",
       "      <th>Overall Qual_9</th>\n",
       "      <td>8908.391676</td>\n",
       "    </tr>\n",
       "    <tr>\n",
       "      <th>Overall Qual_10</th>\n",
       "      <td>9015.839816</td>\n",
       "    </tr>\n",
       "    <tr>\n",
       "      <th>Total Area</th>\n",
       "      <td>29831.173596</td>\n",
       "    </tr>\n",
       "  </tbody>\n",
       "</table>\n",
       "</div>"
      ],
      "text/plain": [
       "                       Coefficient\n",
       "Neighborhood_NoRidge   3361.848809\n",
       "Bsmt Exposure_Gd       3458.220229\n",
       "Year Remod/Add         3478.750402\n",
       "Bldg Type_1Fam         3543.907234\n",
       "Neighborhood_GrnHill   3553.992559\n",
       "Half Bath_1            3749.586557\n",
       "Bsmt Qual_Ex           3835.251432\n",
       "Neighborhood_StoneBr   4021.776584\n",
       "Lot Area               4163.969102\n",
       "Kitchen Qual_Ex        4239.602445\n",
       "Overall Qual_8         5783.432821\n",
       "Year Built             6088.881355\n",
       "Overall Qual_9         8908.391676\n",
       "Overall Qual_10        9015.839816\n",
       "Total Area            29831.173596"
      ]
     },
     "execution_count": 22,
     "metadata": {},
     "output_type": "execute_result"
    }
   ],
   "source": [
    "coef_df.sort_values(by='Coefficient').tail(15)"
   ]
  },
  {
   "cell_type": "markdown",
   "metadata": {},
   "source": [
    "# Kaggle Submission"
   ]
  },
  {
   "cell_type": "code",
   "execution_count": 23,
   "metadata": {},
   "outputs": [],
   "source": [
    "scaled_test = ss.transform(test)"
   ]
  },
  {
   "cell_type": "code",
   "execution_count": 24,
   "metadata": {},
   "outputs": [],
   "source": [
    "data = ENCV.predict(scaled_test)"
   ]
  },
  {
   "cell_type": "code",
   "execution_count": 26,
   "metadata": {},
   "outputs": [],
   "source": [
    "submission = pd.DataFrame(data = data,index = test.index,columns=['SalePrice'])"
   ]
  },
  {
   "cell_type": "code",
   "execution_count": null,
   "metadata": {},
   "outputs": [],
   "source": [
    "submission.to_csv(\"../data/Submission_File\",index_label='Id')"
   ]
  },
  {
   "cell_type": "markdown",
   "metadata": {},
   "source": [
    "# Creating Data for Analysis"
   ]
  },
  {
   "cell_type": "code",
   "execution_count": null,
   "metadata": {},
   "outputs": [],
   "source": [
    "y_hat = ENCV.predict(X_test)"
   ]
  }
 ],
 "metadata": {
  "kernelspec": {
   "display_name": "Python 3",
   "language": "python",
   "name": "python3"
  },
  "language_info": {
   "codemirror_mode": {
    "name": "ipython",
    "version": 3
   },
   "file_extension": ".py",
   "mimetype": "text/x-python",
   "name": "python",
   "nbconvert_exporter": "python",
   "pygments_lexer": "ipython3",
   "version": "3.6.4"
  }
 },
 "nbformat": 4,
 "nbformat_minor": 2
}
