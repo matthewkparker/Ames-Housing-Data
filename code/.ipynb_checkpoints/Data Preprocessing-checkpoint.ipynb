{
 "cells": [
  {
   "cell_type": "code",
   "execution_count": 1,
   "metadata": {},
   "outputs": [],
   "source": [
    "import pandas as pd\n",
    "import numpy as np\n",
    "\n",
    "import seaborn as sns\n",
    "import matplotlib.pyplot as plt\n",
    "from sklearn.linear_model import LinearRegression, LassoCV,ElasticNetCV\n",
    "from sklearn.preprocessing import StandardScaler\n",
    "from sklearn.model_selection import train_test_split,cross_val_score\n",
    "from sklearn.metrics import mean_squared_error\n",
    "%matplotlib inline"
   ]
  },
  {
   "cell_type": "code",
   "execution_count": 2,
   "metadata": {},
   "outputs": [
    {
     "name": "stdout",
     "output_type": "stream",
     "text": [
      "(2044, 81) (879, 80)\n"
     ]
    }
   ],
   "source": [
    "df = pd.read_csv('../data/clean_data',index_col='Id',)\n",
    "test = pd.read_csv('../data/clean_test_data',index_col='Id')\n",
    "print(df.shape,test.shape)"
   ]
  },
  {
   "cell_type": "code",
   "execution_count": 3,
   "metadata": {},
   "outputs": [],
   "source": [
    "obj_list = ['Overall Qual',\n",
    "            'Overall Cond',\n",
    "            'MS SubClass',\n",
    "            'Bsmt Full Bath',\n",
    "            'Bsmt Half Bath',\n",
    "            'Full Bath',\n",
    "            'Half Bath',\n",
    "            'Bedroom AbvGr',\n",
    "            'Kitchen AbvGr',\n",
    "            'Fireplaces',\n",
    "            'Garage Cars',\n",
    "            'Mo Sold',\n",
    "            'Yr Sold',\n",
    "           ]\n",
    "for col in obj_list:\n",
    "    df[col] = df[col].astype(object)\n",
    "    test[col] = test[col].astype(object)"
   ]
  },
  {
   "cell_type": "markdown",
   "metadata": {},
   "source": [
    "#### Creating dummy variables for each column with the object data type, and appending it to the original data frame."
   ]
  },
  {
   "cell_type": "code",
   "execution_count": 4,
   "metadata": {},
   "outputs": [],
   "source": [
    "dummy_col_names = df.select_dtypes(include=\"object\").columns\n",
    "test_dummy_col_names = test.select_dtypes(include=\"object\").columns\n",
    "for col in dummy_col_names:\n",
    "    df = df.join(pd.get_dummies(df[col],prefix=str(col)))\n",
    "for col in test_dummy_col_names:\n",
    "    test = test.join(pd.get_dummies(test[col],prefix=str(col)))"
   ]
  },
  {
   "cell_type": "markdown",
   "metadata": {},
   "source": [
    "#### Creating our X and y data frames to fit our linear regression model, while removing columns that are linearly related to Total Area"
   ]
  },
  {
   "cell_type": "code",
   "execution_count": 5,
   "metadata": {},
   "outputs": [],
   "source": [
    "X_col_list = list(df.select_dtypes(exclude='object').columns)\n",
    "not_in_X = ['SalePrice',\n",
    "            'Gr Liv Area',\n",
    "            'Garage Area',\n",
    "            'Total Bsmt SF',\n",
    "            '2nd Flr SF',\n",
    "            'Bsmt Unf SF',\n",
    "            'BsmtFin SF 1',\n",
    "            '1st Flr SF',\n",
    "            'Low Qual Fin SF',\n",
    "            'BsmtFin SF 2'\n",
    "           ]\n",
    "for col in not_in_X:\n",
    "    X_col_list.remove(col)\n",
    "X = df[X_col_list]\n",
    "y = df[[\"SalePrice\"]]"
   ]
  },
  {
   "cell_type": "code",
   "execution_count": 6,
   "metadata": {},
   "outputs": [],
   "source": [
    "test_col_list = list(test.select_dtypes(exclude='object').columns)\n",
    "not_in_test = ['Gr Liv Area',\n",
    "                 'Garage Area',\n",
    "                 'Total Bsmt SF',\n",
    "                 '2nd Flr SF',\n",
    "                 'Bsmt Unf SF',\n",
    "                 'BsmtFin SF 1',\n",
    "                 '1st Flr SF',\n",
    "                 'Low Qual Fin SF',\n",
    "                 'BsmtFin SF 2'\n",
    "                ]\n",
    "for col in not_in_test:\n",
    "    test_col_list.remove(col)\n",
    "test = test[test_col_list]"
   ]
  },
  {
   "cell_type": "markdown",
   "metadata": {},
   "source": [
    "#### Ensuring that our columns are in the correct order"
   ]
  },
  {
   "cell_type": "code",
   "execution_count": 7,
   "metadata": {},
   "outputs": [
    {
     "name": "stderr",
     "output_type": "stream",
     "text": [
      "C:\\Users\\mattm\\Anaconda3\\lib\\site-packages\\ipykernel_launcher.py:8: SettingWithCopyWarning: \n",
      "A value is trying to be set on a copy of a slice from a DataFrame.\n",
      "Try using .loc[row_indexer,col_indexer] = value instead\n",
      "\n",
      "See the caveats in the documentation: http://pandas.pydata.org/pandas-docs/stable/indexing.html#indexing-view-versus-copy\n",
      "  \n"
     ]
    }
   ],
   "source": [
    "for col in X_col_list:\n",
    "    if col not in test_col_list:\n",
    "        test[str(col)] = 0\n",
    "\n",
    "for col in test_col_list:\n",
    "    if col not in X_col_list:\n",
    "        X_col_list.append(col)\n",
    "        X[str(col)] = 0\n",
    "test = test[X.columns]"
   ]
  },
  {
   "cell_type": "code",
   "execution_count": 8,
   "metadata": {},
   "outputs": [],
   "source": [
    "X.to_csv('../data/to_be_split_train_X')\n",
    "y.to_csv('../data/to_be_split_train_y')\n",
    "test.to_csv('../data/to_be_modeled_test')"
   ]
  }
 ],
 "metadata": {
  "kernelspec": {
   "display_name": "Python 3",
   "language": "python",
   "name": "python3"
  },
  "language_info": {
   "codemirror_mode": {
    "name": "ipython",
    "version": 3
   },
   "file_extension": ".py",
   "mimetype": "text/x-python",
   "name": "python",
   "nbconvert_exporter": "python",
   "pygments_lexer": "ipython3",
   "version": "3.6.4"
  }
 },
 "nbformat": 4,
 "nbformat_minor": 2
}
